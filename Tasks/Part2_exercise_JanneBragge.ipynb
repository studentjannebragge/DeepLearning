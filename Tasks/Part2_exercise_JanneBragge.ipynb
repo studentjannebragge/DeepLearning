{
 "cells": [
  {
   "cell_type": "markdown",
   "metadata": {},
   "source": [
    "#### Print your name"
   ]
  },
  {
   "cell_type": "code",
   "execution_count": 1,
   "metadata": {},
   "outputs": [
    {
     "name": "stdout",
     "output_type": "stream",
     "text": [
      "Exercise by: Janne Bragge.\n"
     ]
    }
   ],
   "source": [
    "## Your code here \n",
    "print(\"Exercise by: Janne Bragge.\")"
   ]
  },
  {
   "cell_type": "markdown",
   "metadata": {},
   "source": [
    "# Neural networks with PyTorch\n",
    "\n",
    "Deep learning networks tend to be massive with dozens or hundreds of layers, that's where the term \"deep\" comes from. You can build one of these deep networks using only weight matrices as we did in the previous notebook, but in general it's very cumbersome and difficult to implement. PyTorch has a nice module `nn` that provides a nice way to efficiently build large neural networks."
   ]
  },
  {
   "cell_type": "code",
   "execution_count": 2,
   "metadata": {},
   "outputs": [],
   "source": [
    "# Import necessary packages\n",
    "\n",
    "%matplotlib inline\n",
    "%config InlineBackend.figure_format = 'retina'\n",
    "\n",
    "import numpy as np\n",
    "import torch\n",
    "\n",
    "import sys\n",
    "sys.path.insert(0, '../answers')\n",
    "import helper\n",
    "\n",
    "import matplotlib.pyplot as plt\n",
    "\n",
    "import warnings\n",
    "\n",
    "warnings.filterwarnings(\"ignore\", category=FutureWarning)\n"
   ]
  },
  {
   "cell_type": "markdown",
   "metadata": {},
   "source": [
    "\n",
    "Now we're going to build a larger network that can solve a (formerly) difficult problem, identifying text in an image. Here we'll use the MNIST dataset which consists of greyscale handwritten digits. Each image is 28x28 pixels, you can see a sample below\n",
    "\n",
    "<img src='../data/assets/mnist.png'>\n",
    "\n",
    "Our goal is to build a neural network that can take one of these images and predict the digit in the image.\n",
    "\n",
    "First up, we need to get our dataset. This is provided through the `torchvision` package. The code below will download the MNIST dataset, then create training and test datasets for us. Don't worry too much about the details here, you'll learn more about this later."
   ]
  },
  {
   "cell_type": "code",
   "execution_count": 3,
   "metadata": {},
   "outputs": [],
   "source": [
    "### Run this cell\n",
    "\n",
    "from torchvision import datasets, transforms\n",
    "\n",
    "# Define a transform to normalize the data\n",
    "transform = transforms.Compose([transforms.ToTensor(),\n",
    "                              transforms.Normalize((0.5,), (0.5,)),\n",
    "                              ])\n",
    "\n",
    "# Download and load the training data\n",
    "trainset = datasets.MNIST('~/.pytorch/MNIST_data/', download=True, train=True, transform=transform)\n",
    "trainloader = torch.utils.data.DataLoader(trainset, batch_size=64, shuffle=True)"
   ]
  },
  {
   "cell_type": "markdown",
   "metadata": {},
   "source": [
    "We have the training data loaded into `trainloader` and we make that an iterator with `iter(trainloader)`. Later, we'll use this to loop through the dataset for training, like\n",
    "\n",
    "```python\n",
    "for image, label in trainloader:\n",
    "    ## do things with images and labels\n",
    "```\n",
    "\n",
    "You'll notice I created the `trainloader` with a batch size of 64, and `shuffle=True`. The batch size is the number of images we get in one iteration from the data loader and pass through our network, often called a *batch*. And `shuffle=True` tells it to shuffle the dataset every time we start going through the data loader again. But here I'm just grabbing the first batch so we can check out the data. We can see below that `images` is just a tensor with size `(64, 1, 28, 28)`. So, 64 images per batch, 1 color channel, and 28x28 images."
   ]
  },
  {
   "cell_type": "code",
   "execution_count": 4,
   "metadata": {},
   "outputs": [
    {
     "name": "stdout",
     "output_type": "stream",
     "text": [
      "<class 'torch.Tensor'>\n",
      "torch.Size([64, 1, 28, 28])\n",
      "torch.Size([64])\n"
     ]
    }
   ],
   "source": [
    "dataiter = iter(trainloader)\n",
    "images, labels = next(dataiter)\n",
    "print(type(images))\n",
    "print(images.shape)\n",
    "print(labels.shape)"
   ]
  },
  {
   "cell_type": "markdown",
   "metadata": {},
   "source": [
    "This is what one of the images looks like. "
   ]
  },
  {
   "cell_type": "code",
   "execution_count": 5,
   "metadata": {},
   "outputs": [
    {
     "name": "stdout",
     "output_type": "stream",
     "text": [
      "Label: 0\n"
     ]
    },
    {
     "data": {
      "image/png": "[encoded data removed]",
      "text/plain": [
       "<Figure size 640x480 with 1 Axes>"
      ]
     },
     "metadata": {
      "image/png": {
       "height": 413,
       "width": 416
      }
     },
     "output_type": "display_data"
    }
   ],
   "source": [
    "plt.imshow(images[1].numpy().squeeze(), cmap='Greys_r');\n",
    "print(\"Label:\",labels[1].item())"
   ]
  },
  {
   "cell_type": "markdown",
   "metadata": {},
   "source": [
    "First, let's try to build a simple network for this dataset using weight matrices and matrix multiplications. Then, we'll see how to do it using PyTorch's `nn` module which provides a much more convenient and powerful method for defining network architectures.\n",
    "\n",
    "The networks you've seen so far are called *fully-connected* or *dense* networks. Each unit in one layer is connected to each unit in the next layer. In fully-connected networks, the input to each layer must be a one-dimensional vector (which can be stacked into a 2D tensor as a batch of multiple examples). However, our images are 28x28 2D tensors, so we need to convert them into 1D vectors. Thinking about sizes, we need to convert the batch of images with shape `(64, 1, 28, 28)` to a have a shape of `(64, 784)`, 784 is 28 times 28. This is typically called *flattening*, we flattened the 2D images into 1D vectors.\n",
    "\n",
    "Previously you built a network with one output unit. Here we need 10 output units, one for each digit. We want our network to predict the digit shown in an image, so what we'll do is calculate probabilities that the image is of any one digit or class. This ends up being a discrete probability distribution over the classes (digits) that tells us the most likely class for the image. That means we need 10 output units for the 10 classes (digits). We'll see how to convert the network output into a probability distribution next.\n"
   ]
  },
  {
   "cell_type": "markdown",
   "metadata": {},
   "source": [
    "***\n",
    "### Exercise:\n",
    "Flatten the batch of images `images`. Then build a multi-layer network with 784 input units, 256 hidden units, and 10 output units using random tensors for the weights and biases. For now, use a sigmoid activation for the hidden layer. Leave the output layer without an activation, we'll add one that gives us a probability distribution next. Set output to variable `output1`"
   ]
  },
  {
   "cell_type": "code",
   "execution_count": 6,
   "metadata": {
    "scrolled": true
   },
   "outputs": [
    {
     "name": "stdout",
     "output_type": "stream",
     "text": [
      "Network input shape:\n",
      "torch.Size([64, 784])\n"
     ]
    }
   ],
   "source": [
    "## Task 1:\n",
    "## Your code here \n",
    "\n",
    "# Oletetaan, että batch koostuu 64 kuvasta, joissa jokainen kuva on 28x28\n",
    "batch_size = 64\n",
    "image_size = 28\n",
    "flattened_size = image_size * image_size\n",
    "\n",
    "# Luodaan satunnainen kuvabatch (64, 28, 28)\n",
    "images = torch.randn(batch_size, image_size, image_size)\n",
    "\n",
    "# Litistetään kuvat muotoon (64, 784)\n",
    "flattened_images = images.view(batch_size, -1)\n",
    "\n",
    "# Määritellään verkon parametrit\n",
    "input_units = 784\n",
    "hidden_units = 256\n",
    "output_units = 10\n",
    "\n",
    "# Alustetaan satunnaiset painot ja biasit\n",
    "W1 = torch.randn(input_units, hidden_units) * 0.01  # Syöte -> Piilokerros\n",
    "b1 = torch.zeros(hidden_units)  # Bias piilokerrokseen\n",
    "\n",
    "W2 = torch.randn(hidden_units, output_units) * 0.01  # Piilokerros -> Lähtökerros\n",
    "b2 = torch.zeros(output_units)  # Bias lähtökerrokseen\n",
    "\n",
    "# Lasketaan piilokerroksen aktivaatio sigmoidilla\n",
    "hidden_layer = torch.sigmoid(torch.matmul(flattened_images, W1) + b1)\n",
    "\n",
    "# Lasketaan lähtökerroksen arvo (ilman aktivointia)\n",
    "output1 = torch.matmul(hidden_layer, W2) + b2\n",
    "\n",
    "# Tulostetaan tuloksen muoto\n",
    "print(f\"Network input shape:\\n{flattened_images.shape}\")\n",
    "\n",
    "\n",
    "\n",
    " "
   ]
  },
  {
   "cell_type": "code",
   "execution_count": 7,
   "metadata": {},
   "outputs": [
    {
     "name": "stdout",
     "output_type": "stream",
     "text": [
      "Network output shape:\n",
      "torch.Size([64, 10])\n"
     ]
    }
   ],
   "source": [
    "# output of your network, should have shape (64,10)\n",
    "print(\"Network output shape:\") \n",
    "print(output1.shape) "
   ]
  },
  {
   "cell_type": "markdown",
   "metadata": {},
   "source": [
    "***"
   ]
  },
  {
   "cell_type": "markdown",
   "metadata": {},
   "source": [
    "Now we have 10 outputs for our network. We want to pass in an image to our network and get out a probability distribution over the classes that tells us the likely class(es) the image belongs to. Something that looks like this:\n",
    "<img src='../data/assets/image_distribution.png' width=500px>\n",
    "\n",
    "Here we see that the probability for each class is roughly the same. This is representing an untrained network, it hasn't seen any data yet so it just returns a uniform distribution with equal probabilities for each class.\n",
    "\n",
    "To calculate this probability distribution, we often use the [**softmax** function](https://en.wikipedia.org/wiki/Softmax_function). Mathematically this looks like\n",
    "\n",
    "$$\n",
    "\\Large \\sigma(x_i) = \\cfrac{e^{x_i}}{\\sum_k^K{e^{x_k}}}\n",
    "$$\n",
    "\n",
    "What this does is squish each input $x_i$ between 0 and 1 and normalizes the values to give you a proper probability distribution where the probabilites sum up to one."
   ]
  },
  {
   "cell_type": "markdown",
   "metadata": {},
   "source": [
    "***\n",
    "### Exercise:\n",
    "Implement a function `softmax` that performs the softmax calculation and returns probability distributions for each example in the batch. Note that you'll need to pay attention to the shapes when doing this. If you have a tensor `a` with shape `(64, 10)` and a tensor `b` with shape `(64,)`, doing `a/b` will give you an error because PyTorch will try to do the division across the columns (called broadcasting) but you'll get a size mismatch. The way to think about this is for each of the 64 examples, you only want to divide by one value, the sum in the denominator. So you need `b` to have a shape of `(64, 1)`. This way PyTorch will divide the 10 values in each row of `a` by the one value in each row of `b`. Pay attention to how you take the sum as well. You'll need to define the `dim` keyword in `torch.sum`. Setting `dim=0` takes the sum across the rows while `dim=1` takes the sum across the columns.\n",
    "\n",
    "***Hint.*** *Use this function frame:*  \n",
    "```python\n",
    "def softmax_func(input):\n",
    "  output = your_code_here\n",
    "  return output\n",
    "```"
   ]
  },
  {
   "cell_type": "code",
   "execution_count": 8,
   "metadata": {},
   "outputs": [],
   "source": [
    "## Task 2:\n",
    "## Your code here \n",
    "def softmax_func(input):\n",
    "    # Calculate exponentials\n",
    "    exp_values = torch.exp(input)\n",
    "    \n",
    "    # Sum across the columns (dim=1)\n",
    "    row_sums = torch.sum(exp_values, dim=1, keepdim=True)\n",
    "    \n",
    "    # Divide each row by its sum\n",
    "    output = exp_values / row_sums\n",
    "    return output\n",
    "\n",
    " "
   ]
  },
  {
   "cell_type": "code",
   "execution_count": 9,
   "metadata": {},
   "outputs": [
    {
     "name": "stdout",
     "output_type": "stream",
     "text": [
      "torch.Size([64, 10])\n",
      "tensor([1.0000, 1.0000, 1.0000, 1.0000, 1.0000, 1.0000, 1.0000, 1.0000, 1.0000,\n",
      "        1.0000, 1.0000, 1.0000, 1.0000, 1.0000, 1.0000, 1.0000, 1.0000, 1.0000,\n",
      "        1.0000, 1.0000, 1.0000, 1.0000, 1.0000, 1.0000, 1.0000, 1.0000, 1.0000,\n",
      "        1.0000, 1.0000, 1.0000, 1.0000, 1.0000, 1.0000, 1.0000, 1.0000, 1.0000,\n",
      "        1.0000, 1.0000, 1.0000, 1.0000, 1.0000, 1.0000, 1.0000, 1.0000, 1.0000,\n",
      "        1.0000, 1.0000, 1.0000, 1.0000, 1.0000, 1.0000, 1.0000, 1.0000, 1.0000,\n",
      "        1.0000, 1.0000, 1.0000, 1.0000, 1.0000, 1.0000, 1.0000, 1.0000, 1.0000,\n",
      "        1.0000])\n"
     ]
    }
   ],
   "source": [
    "# Here, out should be the output of the network in the previous excercise with shape (64,10)\n",
    "probabilities = softmax_func(output1)\n",
    "# Does it have the right shape? Should be (64, 10)\n",
    "print(probabilities.shape)\n",
    "# Does it sum to 1?\n",
    "print(probabilities.sum(dim=1))"
   ]
  },
  {
   "cell_type": "code",
   "execution_count": 10,
   "metadata": {},
   "outputs": [
    {
     "name": "stdout",
     "output_type": "stream",
     "text": [
      "Label: 4\n"
     ]
    },
    {
     "data": {
      "image/png": "[encoded data removed]",
      "text/plain": [
       "<Figure size 640x480 with 1 Axes>"
      ]
     },
     "metadata": {
      "image/png": {
       "height": 413,
       "width": 556
      }
     },
     "output_type": "display_data"
    }
   ],
   "source": [
    "# Note. Actually your current probabilities does not look like picture above... :) \n",
    "# You can try here values 0...63\n",
    "plot_prob_for_Nth_digit = 30\n",
    "plt.stem(probabilities[plot_prob_for_Nth_digit, :])\n",
    "print(\"Label:\", labels[plot_prob_for_Nth_digit].item())\n"
   ]
  },
  {
   "cell_type": "markdown",
   "metadata": {},
   "source": [
    "***"
   ]
  },
  {
   "cell_type": "markdown",
   "metadata": {},
   "source": [
    "## Error function (=loss) - Categorical Cross Entropy Loss\n",
    "\n",
    "Error function is used to estimate how good or actually bad our estimation is. Different type of machine learning algorithms use different types or error function, but basic idea is always same to estimate error to correct answer. And lower value is always better. By using this metric optimization algorithms e.g. gradient decent can optimize system performance. \n",
    "\n",
    "In machine learning error is also known as loss.\n",
    "\n",
    "Below you can find an error function for picture classification, I.e. Categorical Cross Entropy Loss. N in that equation is number of samples (=images) in mini-batch.  \n",
    "\n",
    "$$Error = -{1 \\over N} \\sum_{i=1}^{N} [y^{(i)}log(\\hat{y}^{(i)}) + (1-y^{(i)}) log(1-\\hat{y}^{(i)})]$$ \n"
   ]
  },
  {
   "cell_type": "markdown",
   "metadata": {},
   "source": [
    "***\n",
    "### Exercise:\n",
    "Implement an error calculation function for digit classification (10 classes, from 0 to 9). And calculate error value for exercise 2.2 propabilities.\n",
    "\n",
    "***Hint.*** *Use this function frame:*  \n",
    "```python\n",
    "def error_func(y_hat, y):\n",
    "    \n",
    "  ## Implementation Tip: transform y first to one-hot vector matrix \n",
    "  output = your_code_here\n",
    "  \n",
    "  return output\n",
    "```"
   ]
  },
  {
   "cell_type": "code",
   "execution_count": 11,
   "metadata": {},
   "outputs": [],
   "source": [
    "## Task 3:\n",
    "## Your code here \n",
    "\n",
    "def error_func(y_hat, y):\n",
    "    \"\"\"\n",
    "    Laskee binaarisen ristientropian virheen.\n",
    "    Args:\n",
    "        y_hat: Tensori, ennustetut todennäköisyydet (batch_size x num_classes).\n",
    "        y: Tensori, todelliset luokat (batch_size).\n",
    "    Returns:\n",
    "        Tensori: virhe (keskiarvo binaarisesta ristientropiasta).\n",
    "    \"\"\"\n",
    "    # Muunnetaan todelliset luokat (y) one-hot -muotoon\n",
    "    y_one_hot = torch.nn.functional.one_hot(y, num_classes=y_hat.size(1)).float()\n",
    "    \n",
    "    # Lisätään pieni epsilon välttääksemme log(0) ongelmat\n",
    "    epsilon = 1e-9\n",
    "    \n",
    "    # Lasketaan binaarinen ristientropia kaavan mukaisesti\n",
    "    loss = - (y_one_hot * torch.log(y_hat + epsilon) + (1 - y_one_hot) * torch.log(1 - y_hat + epsilon))\n",
    "    \n",
    "    # Keskimääräinen virhe\n",
    "    output = loss.sum(dim=1).mean()\n",
    "    \n",
    "    return output\n",
    "\n"
   ]
  },
  {
   "cell_type": "code",
   "execution_count": 12,
   "metadata": {},
   "outputs": [
    {
     "name": "stdout",
     "output_type": "stream",
     "text": [
      "Test error = tensor(2.4321)\n",
      "Digit batch error = tensor(3.2530)\n"
     ]
    }
   ],
   "source": [
    "## Test your function\n",
    "test_labels = torch.tensor([0, 1, 6])\n",
    "test_probs = torch.tensor([[0.01, 0.91, 0.01, 0.01, 0.01, 0.01, 0.01, 0.01, 0.01, 0.01],\n",
    "                           [0.01, 0.91, 0.01, 0.01, 0.01, 0.01, 0.01, 0.01, 0.01, 0.01],\n",
    "                           [0.001, 0.001, 0.001, 0.001, 0.001, 0.001, 0.991, 0.001, 0.001, 0.001]])\n",
    "\n",
    "test_error = error_func(test_probs, test_labels)\n",
    "print(\"Test error =\", test_error)\n",
    "\n",
    "#print(probabilities)\n",
    "digit_batch_error = error_func(probabilities, labels)\n",
    "print(\"Digit batch error =\", digit_batch_error)"
   ]
  },
  {
   "cell_type": "markdown",
   "metadata": {},
   "source": [
    "If you did this correctly, you should see the output \n",
    "`Test error= tensor(2.4321)`. \n",
    "\n",
    "**Tip1:** Error values for 3 test samples are `tensor([7.0935, 0.1848, 0.0180])`.     \n",
    "**Tip2:** If you see error `/opt/conda/lib/python3.6/site-packages/ipykernel_launcher.py:14: RuntimeWarning: divide by zero encountered in log`, your model suffers vanishing/exploding weights (some probability values become ~ 0). You can fix this by scaling down your weights w1 and w2 in exercise 2.1. \n",
    "***\n"
   ]
  },
  {
   "cell_type": "markdown",
   "metadata": {},
   "source": [
    "## Building networks with PyTorch\n",
    "\n",
    "PyTorch provides a module `nn` that makes building networks much simpler. Here I'll show you how to build the same one as above with 784 inputs, 256 hidden units, 10 output units and a softmax output."
   ]
  },
  {
   "cell_type": "code",
   "execution_count": 13,
   "metadata": {},
   "outputs": [],
   "source": [
    "from torch import nn"
   ]
  },
  {
   "cell_type": "code",
   "execution_count": 14,
   "metadata": {},
   "outputs": [],
   "source": [
    "class Network(nn.Module):\n",
    "    def __init__(self):\n",
    "        super().__init__()\n",
    "        \n",
    "        # Inputs to hidden layer linear transformation\n",
    "        self.hidden = nn.Linear(784, 256)\n",
    "        # Output layer, 10 units - one for each digit\n",
    "        self.output = nn.Linear(256, 10)\n",
    "        \n",
    "        # Define sigmoid activation and softmax output \n",
    "        self.sigmoid = nn.Sigmoid()\n",
    "        self.softmax = nn.Softmax(dim=1)\n",
    "        \n",
    "    def forward(self, x):\n",
    "        # Pass the input tensor through each of our operations\n",
    "        x = self.hidden(x)\n",
    "        x = self.sigmoid(x)\n",
    "        x = self.output(x)\n",
    "        x = self.softmax(x)\n",
    "        \n",
    "        return x"
   ]
  },
  {
   "cell_type": "markdown",
   "metadata": {},
   "source": [
    "Let's go through this bit by bit.\n",
    "\n",
    "```python\n",
    "class Network(nn.Module):\n",
    "```\n",
    "\n",
    "Here we're inheriting from `nn.Module`. Combined with `super().__init__()` this creates a class that tracks the architecture and provides a lot of useful methods and attributes. It is mandatory to inherit from `nn.Module` when you're creating a class for your network. The name of the class itself can be anything.\n",
    "\n",
    "```python\n",
    "self.hidden = nn.Linear(784, 256)\n",
    "```\n",
    "\n",
    "This line creates a module for a linear transformation, $x\\mathbf{W} + b$, with 784 inputs and 256 outputs and assigns it to `self.hidden`. The module automatically creates the weight and bias tensors which we'll use in the `forward` method. You can access the weight and bias tensors once the network (`net`) is created with `net.hidden.weight` and `net.hidden.bias`.\n",
    "\n",
    "```python\n",
    "self.output = nn.Linear(256, 10)\n",
    "```\n",
    "\n",
    "Similarly, this creates another linear transformation with 256 inputs and 10 outputs.\n",
    "\n",
    "```python\n",
    "self.sigmoid = nn.Sigmoid()\n",
    "self.softmax = nn.Softmax(dim=1)\n",
    "```\n",
    "\n",
    "Here I defined operations for the sigmoid activation and softmax output. Setting `dim=1` in `nn.Softmax(dim=1)` calculates softmax across the columns.\n",
    "\n",
    "```python\n",
    "def forward(self, x):\n",
    "```\n",
    "\n",
    "PyTorch networks created with `nn.Module` must have a `forward` method defined. It takes in a tensor `x` and passes it through the operations you defined in the `__init__` method.\n",
    "\n",
    "```python\n",
    "x = self.hidden(x)\n",
    "x = self.sigmoid(x)\n",
    "x = self.output(x)\n",
    "x = self.softmax(x)\n",
    "```\n",
    "\n",
    "Here the input tensor `x` is passed through each operation and reassigned to `x`. We can see that the input tensor goes through the hidden layer, then a sigmoid function, then the output layer, and finally the softmax function. It doesn't matter what you name the variables here, as long as the inputs and outputs of the operations match the network architecture you want to build. The order in which you define things in the `__init__` method doesn't matter, but you'll need to sequence the operations correctly in the `forward` method.\n",
    "\n",
    "Now we can create a `Network` object."
   ]
  },
  {
   "cell_type": "code",
   "execution_count": 15,
   "metadata": {},
   "outputs": [
    {
     "data": {
      "text/plain": [
       "Network(\n",
       "  (hidden): Linear(in_features=784, out_features=256, bias=True)\n",
       "  (output): Linear(in_features=256, out_features=10, bias=True)\n",
       "  (sigmoid): Sigmoid()\n",
       "  (softmax): Softmax(dim=1)\n",
       ")"
      ]
     },
     "execution_count": 15,
     "metadata": {},
     "output_type": "execute_result"
    }
   ],
   "source": [
    "# Create the network and look at it's text representation\n",
    "model = Network()\n",
    "model"
   ]
  },
  {
   "cell_type": "markdown",
   "metadata": {},
   "source": [
    "You can define the network somewhat more concisely and clearly using the `torch.nn.functional` module. This is the most common way you'll see networks defined as many operations are simple element-wise functions. We normally import this module as `F`, `import torch.nn.functional as F`."
   ]
  },
  {
   "cell_type": "code",
   "execution_count": 16,
   "metadata": {},
   "outputs": [],
   "source": [
    "import torch.nn.functional as F\n",
    "\n",
    "class Network(nn.Module):\n",
    "    def __init__(self):\n",
    "        super().__init__()\n",
    "        # Inputs to hidden layer linear transformation\n",
    "        self.hidden = nn.Linear(784, 256)\n",
    "        # Output layer, 10 units - one for each digit\n",
    "        self.output = nn.Linear(256, 10)\n",
    "        \n",
    "    def forward(self, x):\n",
    "        # Hidden layer with sigmoid activation\n",
    "        x = F.sigmoid(self.hidden(x))\n",
    "        # Output layer with softmax activation\n",
    "        x = F.softmax(self.output(x), dim=1)\n",
    "        \n",
    "        return x"
   ]
  },
  {
   "cell_type": "markdown",
   "metadata": {},
   "source": [
    "### Activation functions\n",
    "\n",
    "So far we've only been looking at the sigmoid activation function, but in general any function can be used as an activation function. The only requirement is that for a network to approximate a non-linear function, the activation functions must be non-linear. Here are a few more examples of common activation functions: Tanh (hyperbolic tangent), and ReLU (rectified linear unit).\n",
    "\n",
    "<img src=\"../data/assets/activation.png\" width=700px>\n",
    "\n",
    "In practice, the ReLU function is used almost exclusively as the activation function for hidden layers."
   ]
  },
  {
   "cell_type": "markdown",
   "metadata": {},
   "source": [
    "### Your Turn to Build a Network\n",
    "\n",
    "<img src=\"../data/assets/mlp_mnist.png\" width=600px>\n"
   ]
  },
  {
   "cell_type": "markdown",
   "metadata": {},
   "source": [
    "***\n",
    "### Exercise:\n",
    "Create a network with 784 input units, a hidden layer with 128 units and a ReLU activation, then a hidden layer with 64 units and a ReLU activation, and finally an output layer with a softmax activation as shown above. You can use a ReLU activation with the `nn.ReLU` module or `F.relu` function.\n",
    "\n",
    "It's good practice to name your layers by their type of network, for instance 'fc' to represent a fully-connected layer. As you code your solution, use `fc1`, `fc2`, and `fc3` as your layer names."
   ]
  },
  {
   "cell_type": "code",
   "execution_count": 17,
   "metadata": {
    "scrolled": true
   },
   "outputs": [],
   "source": [
    "## Task 4:\n",
    "## Your code here \n",
    "import torch\n",
    "import torch.nn as nn\n",
    "\n",
    "# Määritellään verkko\n",
    "class Network(nn.Module):\n",
    "    def __init__(self):\n",
    "        super(Network, self).__init__()\n",
    "        self.fc1 = nn.Linear(784, 128)  # Input -> 1. piilokerros\n",
    "        self.fc2 = nn.Linear(128, 64)  # 1. -> 2. piilokerros\n",
    "        self.fc3 = nn.Linear(64, 10)   # 2. -> Lähtökerros\n",
    "\n",
    "    def forward(self, x):\n",
    "        x = self.fc1(x)  # 1. piilokerros\n",
    "        x = self.fc2(x)  # 2. piilokerros\n",
    "        x = self.fc3(x)  # Lähtökerros\n",
    "        return x\n",
    "\n",
    "# Luo verkko-olio\n",
    "network = Network()\n",
    "\n",
    "# Tarkista verkon rakenne\n",
    "#print(network)\n"
   ]
  },
  {
   "cell_type": "code",
   "execution_count": 18,
   "metadata": {},
   "outputs": [
    {
     "data": {
      "text/plain": [
       "Network(\n",
       "  (fc1): Linear(in_features=784, out_features=128, bias=True)\n",
       "  (fc2): Linear(in_features=128, out_features=64, bias=True)\n",
       "  (fc3): Linear(in_features=64, out_features=10, bias=True)\n",
       ")"
      ]
     },
     "execution_count": 18,
     "metadata": {},
     "output_type": "execute_result"
    }
   ],
   "source": [
    "# Let's create an instance from your fabulous network\n",
    "model = Network()\n",
    "model"
   ]
  },
  {
   "cell_type": "markdown",
   "metadata": {},
   "source": [
    "### Initializing weights and biases\n",
    "\n",
    "The weights and such are automatically initialized for you, but it's possible to customize how they are initialized. The weights and biases are tensors attached to the layer you defined, you can get them with `model.fc1.weight` for instance."
   ]
  },
  {
   "cell_type": "code",
   "execution_count": 19,
   "metadata": {},
   "outputs": [
    {
     "name": "stdout",
     "output_type": "stream",
     "text": [
      "Parameter containing:\n",
      "tensor([[-3.2808e-02, -4.3458e-03, -3.0445e-02,  ..., -2.1742e-02,\n",
      "          1.4374e-02, -2.5583e-02],\n",
      "        [-1.6503e-02, -2.0540e-02,  2.7928e-02,  ...,  1.7518e-02,\n",
      "          2.3959e-02,  1.8771e-02],\n",
      "        [ 2.0149e-02,  1.5232e-02, -2.8372e-04,  ...,  3.2661e-02,\n",
      "          1.8355e-02,  3.9778e-03],\n",
      "        ...,\n",
      "        [ 1.6980e-02,  8.3187e-05, -3.1524e-03,  ..., -2.4971e-02,\n",
      "         -2.3105e-02,  1.5541e-02],\n",
      "        [-1.5183e-02,  8.6860e-03, -3.0669e-02,  ...,  3.4013e-02,\n",
      "          1.9822e-02,  3.5196e-02],\n",
      "        [ 2.8755e-02, -1.2094e-02,  2.7429e-02,  ..., -1.3956e-02,\n",
      "          2.7609e-02,  2.4047e-02]], requires_grad=True)\n",
      "Parameter containing:\n",
      "tensor([ 2.2802e-02, -2.8958e-02,  1.8010e-02, -7.8886e-03, -1.7561e-02,\n",
      "        -8.8551e-03, -3.2022e-02, -2.3896e-02,  1.4209e-02,  2.0214e-02,\n",
      "        -2.4206e-02, -1.4476e-02,  3.0595e-02,  1.4091e-02, -1.3836e-02,\n",
      "         3.2499e-02, -2.3396e-02, -6.2190e-03,  2.2283e-03,  3.1504e-03,\n",
      "         2.0190e-03,  3.0687e-02, -1.2978e-02,  1.1146e-02,  1.8209e-02,\n",
      "         2.4666e-03, -6.0271e-03, -2.6318e-02, -9.7552e-03,  2.2458e-02,\n",
      "        -1.3178e-02,  2.0350e-02, -2.8765e-02, -3.4825e-02, -2.1502e-02,\n",
      "        -1.7929e-02,  4.6034e-03, -4.2189e-03,  3.5330e-02, -6.5891e-03,\n",
      "         1.1363e-02,  1.5934e-02,  6.4556e-03,  4.6773e-03,  2.1123e-02,\n",
      "        -1.3545e-02, -8.7280e-03, -2.5487e-02, -6.7609e-05, -3.2254e-03,\n",
      "        -3.0784e-02,  2.4112e-02,  2.9860e-02,  1.4353e-02, -3.1088e-02,\n",
      "        -1.8379e-02, -2.2871e-02,  5.8473e-03,  9.0044e-03,  2.8789e-02,\n",
      "         2.4891e-03,  2.2889e-03, -9.4869e-03, -2.4776e-02,  3.3724e-02,\n",
      "        -1.9826e-02,  2.4138e-02,  1.7980e-02, -1.0459e-02,  1.0879e-02,\n",
      "         1.5651e-02, -1.5937e-02,  2.1406e-02, -1.0239e-03, -2.5209e-03,\n",
      "        -1.2619e-02, -1.0320e-03,  3.0115e-02, -1.2480e-02,  1.0525e-02,\n",
      "         2.9964e-02,  1.5015e-03, -3.3425e-03, -6.3617e-04, -8.0261e-03,\n",
      "         8.1743e-03,  2.0704e-02,  2.7064e-02, -2.7849e-04, -7.4672e-03,\n",
      "        -1.5133e-02,  1.0321e-02,  3.4872e-02, -2.8900e-02,  9.0373e-03,\n",
      "         2.6614e-02,  7.5840e-04, -1.0322e-02, -1.6426e-03,  1.9037e-02,\n",
      "        -9.6743e-03,  1.7945e-02, -2.5133e-02,  7.7854e-03, -2.8099e-02,\n",
      "        -2.9619e-02,  3.3710e-02,  3.5058e-02, -6.3837e-03, -2.6596e-02,\n",
      "        -3.3513e-02, -3.5034e-02,  2.8089e-02,  1.7617e-02,  1.3675e-02,\n",
      "        -8.8089e-03, -2.4445e-02,  1.8987e-02, -1.0350e-02, -3.0333e-02,\n",
      "         3.0104e-02, -1.6258e-02, -3.0178e-02, -2.3230e-03,  2.3941e-02,\n",
      "         9.6941e-03, -2.7706e-02, -1.0780e-02], requires_grad=True)\n"
     ]
    }
   ],
   "source": [
    "print(model.fc1.weight)\n",
    "print(model.fc1.bias)"
   ]
  },
  {
   "cell_type": "markdown",
   "metadata": {},
   "source": [
    "For custom initialization, we want to modify these tensors in place. These are actually autograd *Variables*, so we need to get back the actual tensors with `model.fc1.weight.data`. Once we have the tensors, we can fill them with zeros (for biases) or random normal values."
   ]
  },
  {
   "cell_type": "code",
   "execution_count": 20,
   "metadata": {},
   "outputs": [
    {
     "data": {
      "text/plain": [
       "tensor([0., 0., 0., 0., 0., 0., 0., 0., 0., 0., 0., 0., 0., 0., 0., 0., 0., 0., 0., 0., 0., 0., 0., 0.,\n",
       "        0., 0., 0., 0., 0., 0., 0., 0., 0., 0., 0., 0., 0., 0., 0., 0., 0., 0., 0., 0., 0., 0., 0., 0.,\n",
       "        0., 0., 0., 0., 0., 0., 0., 0., 0., 0., 0., 0., 0., 0., 0., 0., 0., 0., 0., 0., 0., 0., 0., 0.,\n",
       "        0., 0., 0., 0., 0., 0., 0., 0., 0., 0., 0., 0., 0., 0., 0., 0., 0., 0., 0., 0., 0., 0., 0., 0.,\n",
       "        0., 0., 0., 0., 0., 0., 0., 0., 0., 0., 0., 0., 0., 0., 0., 0., 0., 0., 0., 0., 0., 0., 0., 0.,\n",
       "        0., 0., 0., 0., 0., 0., 0., 0.])"
      ]
     },
     "execution_count": 20,
     "metadata": {},
     "output_type": "execute_result"
    }
   ],
   "source": [
    "# Set biases to all zeros\n",
    "model.fc1.bias.data.fill_(0)"
   ]
  },
  {
   "cell_type": "code",
   "execution_count": 21,
   "metadata": {},
   "outputs": [
    {
     "data": {
      "text/plain": [
       "tensor([[ 0.0003,  0.0054, -0.0025,  ...,  0.0087,  0.0012, -0.0196],\n",
       "        [ 0.0020, -0.0065,  0.0072,  ..., -0.0204, -0.0047, -0.0032],\n",
       "        [-0.0152, -0.0018,  0.0102,  ..., -0.0014,  0.0177,  0.0108],\n",
       "        ...,\n",
       "        [ 0.0071, -0.0036, -0.0023,  ..., -0.0079, -0.0100, -0.0089],\n",
       "        [ 0.0112,  0.0077,  0.0008,  ..., -0.0171,  0.0149, -0.0061],\n",
       "        [-0.0053,  0.0002, -0.0092,  ...,  0.0016,  0.0199,  0.0110]])"
      ]
     },
     "execution_count": 21,
     "metadata": {},
     "output_type": "execute_result"
    }
   ],
   "source": [
    "# sample from random normal with standard dev = 0.01\n",
    "model.fc1.weight.data.normal_(std=0.01)"
   ]
  },
  {
   "cell_type": "markdown",
   "metadata": {},
   "source": [
    "### Forward pass\n",
    "\n",
    "Now that we have a network, let's see what happens when we pass in an image."
   ]
  },
  {
   "cell_type": "code",
   "execution_count": 22,
   "metadata": {},
   "outputs": [
    {
     "data": {
      "image/png": "[encoded data removed]",
      "text/plain": [
       "<Figure size 600x900 with 2 Axes>"
      ]
     },
     "metadata": {
      "image/png": {
       "height": 327,
       "width": 589
      }
     },
     "output_type": "display_data"
    }
   ],
   "source": [
    "# Grab some data \n",
    "dataiter = iter(trainloader)\n",
    "images, labels = next(dataiter)\n",
    "\n",
    "# Resize images into a 1D vector, new shape is (batch size, color channels, image pixels) \n",
    "images.resize_(64, 1, 784)\n",
    "# or images.resize_(images.shape[0], 1, 784) to automatically get batch size\n",
    "\n",
    "# Forward pass through the network\n",
    "img_idx = 0\n",
    "ps = model.forward(images[img_idx,:])\n",
    "\n",
    "img = images[img_idx]\n",
    "helper.view_classify(img.view(1, 28, 28), ps)"
   ]
  },
  {
   "cell_type": "markdown",
   "metadata": {},
   "source": [
    "As you can see above, our network has basically no idea what this digit is. It's because we haven't trained it yet, all the weights are random!\n",
    "\n",
    "### Using `nn.Sequential`\n",
    "\n",
    "PyTorch provides a convenient way to build networks like this where a tensor is passed sequentially through operations, `nn.Sequential` ([documentation](https://pytorch.org/docs/master/nn.html#torch.nn.Sequential)). Using this to build the equivalent network:"
   ]
  },
  {
   "cell_type": "code",
   "execution_count": 23,
   "metadata": {},
   "outputs": [
    {
     "name": "stdout",
     "output_type": "stream",
     "text": [
      "Sequential(\n",
      "  (0): Linear(in_features=784, out_features=16, bias=True)\n",
      "  (1): ReLU()\n",
      "  (2): Linear(in_features=16, out_features=32, bias=True)\n",
      "  (3): ReLU()\n",
      "  (4): Linear(in_features=32, out_features=10, bias=True)\n",
      "  (5): Softmax(dim=1)\n",
      ")\n"
     ]
    },
    {
     "data": {
      "image/png": "[encoded data removed]",
      "text/plain": [
       "<Figure size 600x900 with 2 Axes>"
      ]
     },
     "metadata": {
      "image/png": {
       "height": 327,
       "width": 589
      }
     },
     "output_type": "display_data"
    }
   ],
   "source": [
    "# Build a feed-forward network\n",
    "sequential_model = nn.Sequential(nn.Linear(784, 16),\n",
    "                      nn.ReLU(),\n",
    "                      nn.Linear(16, 32),\n",
    "                      nn.ReLU(),\n",
    "                      nn.Linear(32, 10),\n",
    "                      nn.Softmax(dim=1))\n",
    "print(sequential_model)\n",
    "\n",
    "# Forward pass through the network and display output\n",
    "images, labels = next(iter(trainloader))\n",
    "images.resize_(images.shape[0], 1, 784)\n",
    "ps = sequential_model.forward(images[0,:])\n",
    "helper.view_classify(images[0].view(1, 28, 28), ps)"
   ]
  },
  {
   "cell_type": "markdown",
   "metadata": {},
   "source": [
    "Here our model is the same as before: 784 input units, a hidden layer with 128 units, ReLU activation, 64 unit hidden layer, another ReLU, then the output layer with 10 units, and the softmax output.\n",
    "\n",
    "The operations are available by passing in the appropriate index. For example, if you want to get first Linear operation and look at the weights, you'd use `model[0]`."
   ]
  },
  {
   "cell_type": "code",
   "execution_count": 24,
   "metadata": {},
   "outputs": [
    {
     "name": "stdout",
     "output_type": "stream",
     "text": [
      "Linear(in_features=784, out_features=16, bias=True)\n"
     ]
    },
    {
     "data": {
      "text/plain": [
       "Parameter containing:\n",
       "tensor([[ 0.0227,  0.0131,  0.0241,  ...,  0.0357,  0.0167, -0.0287],\n",
       "        [ 0.0243, -0.0305,  0.0058,  ..., -0.0313, -0.0021,  0.0012],\n",
       "        [-0.0152,  0.0299,  0.0209,  ..., -0.0231, -0.0045, -0.0196],\n",
       "        ...,\n",
       "        [ 0.0042, -0.0250, -0.0185,  ..., -0.0186, -0.0313, -0.0184],\n",
       "        [ 0.0171,  0.0323, -0.0356,  ..., -0.0054,  0.0157,  0.0256],\n",
       "        [ 0.0061, -0.0290, -0.0057,  ...,  0.0245, -0.0284, -0.0061]],\n",
       "       requires_grad=True)"
      ]
     },
     "execution_count": 24,
     "metadata": {},
     "output_type": "execute_result"
    }
   ],
   "source": [
    "print(sequential_model[0])\n",
    "sequential_model[0].weight"
   ]
  },
  {
   "cell_type": "markdown",
   "metadata": {},
   "source": [
    "You can also pass in an `OrderedDict` to name the individual layers and operations, instead of using incremental integers. Note that dictionary keys must be unique, so _each operation must have a different name_."
   ]
  },
  {
   "cell_type": "code",
   "execution_count": 25,
   "metadata": {},
   "outputs": [
    {
     "data": {
      "text/plain": [
       "Sequential(\n",
       "  (fc_1): Linear(in_features=784, out_features=16, bias=True)\n",
       "  (relu_1): ReLU()\n",
       "  (fc_2): Linear(in_features=16, out_features=32, bias=True)\n",
       "  (relu_2): ReLU()\n",
       "  (output_layer): Linear(in_features=32, out_features=10, bias=True)\n",
       "  (softmax): Softmax(dim=1)\n",
       ")"
      ]
     },
     "execution_count": 25,
     "metadata": {},
     "output_type": "execute_result"
    }
   ],
   "source": [
    "from collections import OrderedDict\n",
    "sequential_model = nn.Sequential(OrderedDict([\n",
    "                      ('fc_1', nn.Linear(784, 16)),\n",
    "                      ('relu_1', nn.ReLU()),\n",
    "                      ('fc_2', nn.Linear(16, 32)),\n",
    "                      ('relu_2', nn.ReLU()),\n",
    "                      ('output_layer', nn.Linear(32, 10)),\n",
    "                      ('softmax', nn.Softmax(dim=1))]))\n",
    "sequential_model"
   ]
  },
  {
   "cell_type": "markdown",
   "metadata": {},
   "source": [
    "Now you can access layers either by integer or the name"
   ]
  },
  {
   "cell_type": "code",
   "execution_count": 26,
   "metadata": {},
   "outputs": [
    {
     "name": "stdout",
     "output_type": "stream",
     "text": [
      "Linear(in_features=784, out_features=16, bias=True)\n",
      "Linear(in_features=784, out_features=16, bias=True)\n"
     ]
    }
   ],
   "source": [
    "print(sequential_model[0])\n",
    "print(sequential_model.fc_1)"
   ]
  },
  {
   "cell_type": "markdown",
   "metadata": {},
   "source": [
    "In the next notebook, we'll see how we can train a neural network to accuractly predict the numbers appearing in the MNIST images."
   ]
  },
  {
   "cell_type": "markdown",
   "metadata": {},
   "source": [
    "***\n",
    "### Exercise:\n",
    "Create same network as in previous exercise (784 input units, a hidden layer with 128 units and a ReLU activation, then a hidden layer with 64 units and a ReLU activation, and finally an output layer with a softmax activation). \n",
    "\n",
    "Use [`fc1`, `relu1`, `fc2`, `relu2`, `fc3`, `softmax`] as your layer names."
   ]
  },
  {
   "cell_type": "code",
   "execution_count": 27,
   "metadata": {},
   "outputs": [
    {
     "name": "stdout",
     "output_type": "stream",
     "text": [
      "Sequential(\n",
      "  (fc1): Linear(in_features=784, out_features=128, bias=True)\n",
      "  (relu1): ReLU()\n",
      "  (fc2): Linear(in_features=128, out_features=64, bias=True)\n",
      "  (relu2): ReLU()\n",
      "  (fc3): Linear(in_features=64, out_features=10, bias=True)\n",
      "  (softmax): Softmax(dim=1)\n",
      ")\n"
     ]
    }
   ],
   "source": [
    "## Task 5:\n",
    "## Your code here\n",
    "import torch\n",
    "import torch.nn as nn\n",
    "from collections import OrderedDict\n",
    "\n",
    "# Luo Sequential-verkkorakenne käyttäen OrderedDict\n",
    "sequential_model = nn.Sequential(OrderedDict([\n",
    "    ('fc1', nn.Linear(784, 128)),  # fc1\n",
    "    ('relu1', nn.ReLU()),          # relu1\n",
    "    ('fc2', nn.Linear(128, 64)),   # fc2\n",
    "    ('relu2', nn.ReLU()),          # relu2\n",
    "    ('fc3', nn.Linear(64, 10)),    # fc3\n",
    "    ('softmax', nn.Softmax(dim=1)) # softmax\n",
    "]))\n",
    "\n",
    "# Tulosta verkon rakenne\n",
    "print(sequential_model)\n",
    "\n",
    "\n",
    "\n",
    "\n",
    "\n",
    " "
   ]
  },
  {
   "cell_type": "markdown",
   "metadata": {},
   "source": [
    "### And that is how you create a neural network! :)"
   ]
  },
  {
   "cell_type": "markdown",
   "metadata": {},
   "source": [
    "## Reflection\n",
    "\n",
    "Answer briefly following questions (in English or Finnish):\n",
    "- What is loss function?\n",
    "- What is ReLU?\n",
    "- What is batch size?\n",
    "- When you should use softmax?"
   ]
  },
  {
   "cell_type": "markdown",
   "metadata": {},
   "source": [
    "*Your answers here...*\n",
    "\n",
    "**Loss Function** = The loss function is used by a neural network to compare its predicted output to the ground truth. It returns a single number for each observation; the greater this number, the worse the network has performed for this observation. The choice of the loss function depends on the type of problem to solve:\n",
    "\n",
    "#### Problem Types and Their Loss Functions\n",
    "- **Regression** → Mean Squared Error Loss  \n",
    "- **Classification** → Categorical Cross-Entropy  \n",
    "- **Binary Problem** → Binary Cross-Entropy\n",
    "\n",
    "**Foster, D. (2022)**\n",
    "\n",
    "**ReLU** = The **ReLU (Rectified Linear Unit)** activation function is defined as 0 if the input is negative and equal to the input otherwise. The **LeakyReLU** activation function is very similar to ReLU, with one key difference: while the ReLU activation function returns 0 for input values less than 0, the LeakyReLU function returns a small negative value proportional to the input.\n",
    "\n",
    "A drawback of the ReLU function is that units can sometimes \"die\" if they consistently output 0 due to a large bias toward negative pre-activation values. In such cases, the gradient becomes 0, preventing error propagation back through these units. **LeakyReLU** addresses this issue by ensuring that the gradient is always non-zero, even for negative inputs.\n",
    "\n",
    "ReLU-based functions are among the most reliable activation functions to use between layers in a deep network, as they encourage stable training. **Foster, D. (2022)**\n",
    "\n",
    "**Batch size** = The batch size refers to the number of training examples used in one forward pass. For example, a batch size of 32 means that 32 samples from the training dataset will be used to estimate the error gradient before updating the model's weights. \n",
    "\n",
    "Larger batch sizes require more memory space, so the choice of batch size often depends on the available computational resources. **Tatsat, H. Puri, S. Lookabaugh, B. (2020)**\n",
    "\n",
    "**When to use Softmax** = The softmax activation function is useful when you want the total sum of the outputs from a layer to equal 1. This makes it particularly suitable for multiclass classification problems, where each observation belongs to exactly one class. **Foster, D. (2022)**\n",
    "\n",
    "---------------------------\n",
    "\n",
    "**Foster, D. (2022). Generative Deep Learning (2nd ed.). O'Reilly Media.Foster, D. (2022). Generative Deep Learning (2nd ed.). O'Reilly Media**\n",
    "\n",
    "**Tatsat, H. Puri, S. Lookabaugh, B. (2020). Machine Learning and Data Science Blueprints for Finance: From Building Trading Strategies to Robo-Advisors Using Python. O'Reilly Media**"
   ]
  },
  {
   "cell_type": "markdown",
   "metadata": {},
   "source": [
    "### Check your answers by running following cell:"
   ]
  },
  {
   "cell_type": "code",
   "execution_count": 28,
   "metadata": {},
   "outputs": [
    {
     "name": "stdout",
     "output_type": "stream",
     "text": [
      "Results:\n",
      "torch.Size([64, 10])\n",
      "Network(\n",
      "  (fc1): Linear(in_features=784, out_features=128, bias=True)\n",
      "  (fc2): Linear(in_features=128, out_features=64, bias=True)\n",
      "  (fc3): Linear(in_features=64, out_features=10, bias=True)\n",
      ")\n",
      "Sequential(\n",
      "  (fc1): Linear(in_features=784, out_features=128, bias=True)\n",
      "  (relu1): ReLU()\n",
      "  (fc2): Linear(in_features=128, out_features=64, bias=True)\n",
      "  (relu2): ReLU()\n",
      "  (fc3): Linear(in_features=64, out_features=10, bias=True)\n",
      "  (softmax): Softmax(dim=1)\n",
      ")\n",
      "Correct answers 5 / 5.\n"
     ]
    }
   ],
   "source": [
    "# Do not change this code!\n",
    "\n",
    "import sys\n",
    "sys.path.insert(0, '../answers/part2/')\n",
    "from part2_check import *\n",
    "\n",
    "\n",
    "print(\"Results:\")\n",
    "\n",
    "correct1 = part2_shape_check(output1.shape)\n",
    "correct2 = softmax_func_check(softmax_func)\n",
    "correct3 = error_func_check(error_func)\n",
    "correct4 = part2_model_check(model)\n",
    "correct5 = part2_sequential_model_check(sequential_model)\n",
    "\n",
    "\n",
    "print(\"Correct answers\", correct1 + correct2 + correct3 + correct4 + correct5,  \"/ 5.\")\n",
    "\n"
   ]
  },
  {
   "cell_type": "markdown",
   "metadata": {},
   "source": [
    "### Nice work! "
   ]
  },
  {
   "cell_type": "code",
   "execution_count": null,
   "metadata": {},
   "outputs": [],
   "source": []
  }
 ],
 "metadata": {
  "kernelspec": {
   "display_name": "Python 3 (ipykernel)",
   "language": "python",
   "name": "python3"
  },
  "language_info": {
   "codemirror_mode": {
    "name": "ipython",
    "version": 3
   },
   "file_extension": ".py",
   "mimetype": "text/x-python",
   "name": "python",
   "nbconvert_exporter": "python",
   "pygments_lexer": "ipython3",
   "version": "3.11.6"
  }
 },
 "nbformat": 4,
 "nbformat_minor": 4
}
